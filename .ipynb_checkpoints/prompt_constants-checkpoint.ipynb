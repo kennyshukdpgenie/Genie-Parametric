{
 "cells": [
  {
   "cell_type": "code",
   "execution_count": 1,
   "id": "688288b4-936e-4226-8798-8d0afbdcb97d",
   "metadata": {},
   "outputs": [],
   "source": [
    "dimension_extraction_prompt = \"\"\"\n",
    "You are an expert in marketing analysis and parametric modeling. Below is a plain-text marketing brief. Your task is to analyze the content and extract a list of key parametric dimensions that define the structure of the brief. These dimensions will be used later to build a comparative table across multiple briefs (good and bad), so consistency and granularity are important.\n",
    "Please follow these rules:\n",
    "Extract only the dimensions (i.e., column names) — do not return any values.\n",
    "Focus on identifying clear, consistently measurable or comparable parameters (e.g., type of shot, camera angle, background object, position etc.).\n",
    "Avoid vague or redundant terms; aim for a consistent level of abstraction.\n",
    "Pay Special attention to photographic terms like angles or type of shot\n",
    "Return the dimensions as a flat, bullet-point list in the order they appear logically in the brief.\n",
    "Include between 10–15 core dimensions, depending on content richness.\n",
    "\"\"\"\n",
    "\n",
    "dimension_value_fillin_prompt = \"\"\"\n",
    "You are a marketing analyst AI. Below is a marketing brief in plain text, followed by a finalized list of dimensions.\n",
    "Your task is to extract the most relevant value for each dimension based on the content of the brief. If a dimension is not mentioned or not clearly stated, leave it blank (do not guess).\n",
    "Return the output as a CSV-style table, with the column names as the dimension list, and a single row of corresponding values.\n",
    "\"\"\"\n"
   ]
  },
  {
   "cell_type": "code",
   "execution_count": null,
   "id": "df115b3a-951f-4585-b245-b80041691538",
   "metadata": {},
   "outputs": [],
   "source": []
  },
  {
   "cell_type": "code",
   "execution_count": null,
   "id": "f2b66804-a2d8-4e82-bec6-8869cfdf0c1e",
   "metadata": {},
   "outputs": [],
   "source": []
  }
 ],
 "metadata": {
  "kernelspec": {
   "display_name": "Python 3 (ipykernel)",
   "language": "python",
   "name": "python3"
  },
  "language_info": {
   "codemirror_mode": {
    "name": "ipython",
    "version": 3
   },
   "file_extension": ".py",
   "mimetype": "text/x-python",
   "name": "python",
   "nbconvert_exporter": "python",
   "pygments_lexer": "ipython3",
   "version": "3.12.7"
  }
 },
 "nbformat": 4,
 "nbformat_minor": 5
}
